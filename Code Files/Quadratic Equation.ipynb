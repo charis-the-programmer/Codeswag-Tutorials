{
 "cells": [
  {
   "cell_type": "markdown",
   "metadata": {},
   "source": [
    "## Quadratic Equation\n",
    "\n",
    "This program solve the quadratic equation. The eqation is defined as:\n",
    "\n",
    "$$ ax^2 + bx + c = 0 $$"
   ]
  },
  {
   "cell_type": "markdown",
   "metadata": {},
   "source": [
    "To solve it we make use of the quadratic formula which has two solutions:\n",
    "    \n",
    "$$ x = \\frac{-b + \\sqrt(b^2-4ac)}{2a} $$\n",
    "\n",
    "\n",
    "$$ x = \\frac{-b - \\sqrt(b^2-4ac)}{2a} $$"
   ]
  },
  {
   "cell_type": "markdown",
   "metadata": {},
   "source": [
    "### Writing The Code \n",
    "\n",
    "Knowing that, we can build the program. First, we import the cmath module"
   ]
  },
  {
   "cell_type": "code",
   "execution_count": null,
   "metadata": {},
   "outputs": [],
   "source": [
    "import cmath"
   ]
  },
  {
   "cell_type": "code",
   "execution_count": null,
   "metadata": {},
   "outputs": [],
   "source": [
    "# we make a function\n",
    "\n",
    "def quad():\n",
    "    a = int(input(\"Please enter the first coeffeicient: \"))\n",
    "    b = int(input(\"Please enter the second coeffeicient: \"))\n",
    "    c = int(input(\"Please enter the third coeffeicient: \"))\n",
    "    \n",
    "    # calculate the discriminant\n",
    "    disc = (b**2) - (4*a*c)\n",
    "    \n",
    "    # find two solutions\n",
    "    sol1 = (-b-cmath.sqrt(disc))/(2*a)\n",
    "    sol2 = (-b+cmath.sqrt(disc))/(2*a)\n",
    "    \n",
    "    print(\"\\nThe positive value is {}\".format(sol2) )\n",
    "    print(\"The negative value is {}\".format(sol1) )"
   ]
  },
  {
   "cell_type": "markdown",
   "metadata": {},
   "source": [
    "Now run the function"
   ]
  },
  {
   "cell_type": "code",
   "execution_count": null,
   "metadata": {},
   "outputs": [],
   "source": [
    "quad()"
   ]
  }
 ],
 "metadata": {
  "kernelspec": {
   "display_name": "Python 3",
   "language": "python",
   "name": "python3"
  },
  "language_info": {
   "codemirror_mode": {
    "name": "ipython",
    "version": 3
   },
   "file_extension": ".py",
   "mimetype": "text/x-python",
   "name": "python",
   "nbconvert_exporter": "python",
   "pygments_lexer": "ipython3",
   "version": "3.7.4"
  }
 },
 "nbformat": 4,
 "nbformat_minor": 4
}
