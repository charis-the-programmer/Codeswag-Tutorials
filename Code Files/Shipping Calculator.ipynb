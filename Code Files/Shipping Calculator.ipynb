{
 "cells": [
  {
   "cell_type": "markdown",
   "metadata": {},
   "source": [
    "## Shipping Calculator\n",
    "\n",
    "This program will calculate the amount of shipping a client will pay based on the cost of items bought.\n",
    "\n",
    "If the customer's final amount is above a certain amount, in this case 50, shipping is free otherwise add a shipping charge."
   ]
  },
  {
   "cell_type": "markdown",
   "metadata": {},
   "source": [
    "### Building The Program\n",
    "\n",
    "First we start by declaring the variables"
   ]
  },
  {
   "cell_type": "code",
   "execution_count": 1,
   "metadata": {},
   "outputs": [],
   "source": [
    "purchaseAmt = 0\n",
    "shippingCharge = 0\n",
    "totalWithShipping = 0"
   ]
  },
  {
   "cell_type": "markdown",
   "metadata": {},
   "source": [
    "Ask user for their purcahse amount and convert the answer to a number"
   ]
  },
  {
   "cell_type": "code",
   "execution_count": 2,
   "metadata": {},
   "outputs": [
    {
     "name": "stdout",
     "output_type": "stream",
     "text": [
      "How much did you pay?: 38\n"
     ]
    }
   ],
   "source": [
    "purchaseAmt = float(input(\"How much did you pay?: \"))"
   ]
  },
  {
   "cell_type": "markdown",
   "metadata": {},
   "source": [
    "Next, calculate the shipping charge based on the purchase amount"
   ]
  },
  {
   "cell_type": "code",
   "execution_count": 3,
   "metadata": {},
   "outputs": [],
   "source": [
    "if purchaseAmt >= 50 :\n",
    "    shippingCharge = 0\n",
    "else:\n",
    "    shippingCharge = 10\n",
    "\n",
    "# Calculate total including shipping\n",
    "totalWithShipping = purchaseAmt + shippingCharge"
   ]
  },
  {
   "cell_type": "markdown",
   "metadata": {},
   "source": [
    "Lastly, ouput the user's final charge"
   ]
  },
  {
   "cell_type": "code",
   "execution_count": 4,
   "metadata": {},
   "outputs": [
    {
     "name": "stdout",
     "output_type": "stream",
     "text": [
      "Your total, including shiping is: $48.00\n"
     ]
    }
   ],
   "source": [
    "print(\"Your total, including shiping is: $%.2f\" %totalWithShipping)"
   ]
  }
 ],
 "metadata": {
  "kernelspec": {
   "display_name": "Python 3",
   "language": "python",
   "name": "python3"
  },
  "language_info": {
   "codemirror_mode": {
    "name": "ipython",
    "version": 3
   },
   "file_extension": ".py",
   "mimetype": "text/x-python",
   "name": "python",
   "nbconvert_exporter": "python",
   "pygments_lexer": "ipython3",
   "version": "3.7.4"
  }
 },
 "nbformat": 4,
 "nbformat_minor": 4
}
